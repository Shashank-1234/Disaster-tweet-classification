{
 "cells": [
  {
   "cell_type": "code",
   "execution_count": 2,
   "id": "5c7d26a1-e493-4606-9216-a84b7660ec08",
   "metadata": {},
   "outputs": [
    {
     "name": "stdout",
     "output_type": "stream",
     "text": [
      "Requirement already satisfied: twint in /Users/shashankdutt/miniconda3/envs/disaster-response/lib/python3.9/site-packages (2.1.20)\n",
      "Requirement already satisfied: aiohttp in /Users/shashankdutt/miniconda3/envs/disaster-response/lib/python3.9/site-packages (from twint) (3.10.5)\n",
      "Requirement already satisfied: aiodns in /Users/shashankdutt/miniconda3/envs/disaster-response/lib/python3.9/site-packages (from twint) (3.2.0)\n",
      "Requirement already satisfied: beautifulsoup4 in /Users/shashankdutt/miniconda3/envs/disaster-response/lib/python3.9/site-packages (from twint) (4.12.3)\n",
      "Requirement already satisfied: cchardet in /Users/shashankdutt/miniconda3/envs/disaster-response/lib/python3.9/site-packages (from twint) (2.1.7)\n",
      "Requirement already satisfied: elasticsearch in /Users/shashankdutt/miniconda3/envs/disaster-response/lib/python3.9/site-packages (from twint) (8.15.0)\n",
      "Requirement already satisfied: pysocks in /Users/shashankdutt/miniconda3/envs/disaster-response/lib/python3.9/site-packages (from twint) (1.7.1)\n",
      "Requirement already satisfied: pandas in /Users/shashankdutt/miniconda3/envs/disaster-response/lib/python3.9/site-packages (from twint) (2.2.2)\n",
      "Requirement already satisfied: aiohttp-socks in /Users/shashankdutt/miniconda3/envs/disaster-response/lib/python3.9/site-packages (from twint) (0.9.0)\n",
      "Requirement already satisfied: schedule in /Users/shashankdutt/miniconda3/envs/disaster-response/lib/python3.9/site-packages (from twint) (1.2.2)\n",
      "Requirement already satisfied: geopy in /Users/shashankdutt/miniconda3/envs/disaster-response/lib/python3.9/site-packages (from twint) (2.4.1)\n",
      "Requirement already satisfied: fake-useragent in /Users/shashankdutt/miniconda3/envs/disaster-response/lib/python3.9/site-packages (from twint) (1.5.1)\n",
      "Requirement already satisfied: googletransx in /Users/shashankdutt/miniconda3/envs/disaster-response/lib/python3.9/site-packages (from twint) (2.4.2)\n",
      "Requirement already satisfied: pycares>=4.0.0 in /Users/shashankdutt/miniconda3/envs/disaster-response/lib/python3.9/site-packages (from aiodns->twint) (4.4.0)\n",
      "Requirement already satisfied: aiohappyeyeballs>=2.3.0 in /Users/shashankdutt/miniconda3/envs/disaster-response/lib/python3.9/site-packages (from aiohttp->twint) (2.4.0)\n",
      "Requirement already satisfied: aiosignal>=1.1.2 in /Users/shashankdutt/miniconda3/envs/disaster-response/lib/python3.9/site-packages (from aiohttp->twint) (1.3.1)\n",
      "Requirement already satisfied: attrs>=17.3.0 in /Users/shashankdutt/miniconda3/envs/disaster-response/lib/python3.9/site-packages (from aiohttp->twint) (24.2.0)\n",
      "Requirement already satisfied: frozenlist>=1.1.1 in /Users/shashankdutt/miniconda3/envs/disaster-response/lib/python3.9/site-packages (from aiohttp->twint) (1.4.1)\n",
      "Requirement already satisfied: multidict<7.0,>=4.5 in /Users/shashankdutt/miniconda3/envs/disaster-response/lib/python3.9/site-packages (from aiohttp->twint) (6.0.5)\n",
      "Requirement already satisfied: yarl<2.0,>=1.0 in /Users/shashankdutt/miniconda3/envs/disaster-response/lib/python3.9/site-packages (from aiohttp->twint) (1.9.4)\n",
      "Requirement already satisfied: async-timeout<5.0,>=4.0 in /Users/shashankdutt/miniconda3/envs/disaster-response/lib/python3.9/site-packages (from aiohttp->twint) (4.0.3)\n",
      "Requirement already satisfied: python-socks<3.0.0,>=2.4.3 in /Users/shashankdutt/miniconda3/envs/disaster-response/lib/python3.9/site-packages (from python-socks[asyncio]<3.0.0,>=2.4.3->aiohttp-socks->twint) (2.5.1)\n",
      "Requirement already satisfied: soupsieve>1.2 in /Users/shashankdutt/miniconda3/envs/disaster-response/lib/python3.9/site-packages (from beautifulsoup4->twint) (2.5)\n",
      "Requirement already satisfied: elastic-transport<9,>=8.13 in /Users/shashankdutt/miniconda3/envs/disaster-response/lib/python3.9/site-packages (from elasticsearch->twint) (8.15.0)\n",
      "Requirement already satisfied: importlib-resources>=5.0 in /Users/shashankdutt/miniconda3/envs/disaster-response/lib/python3.9/site-packages (from fake-useragent->twint) (6.4.4)\n",
      "Requirement already satisfied: geographiclib<3,>=1.52 in /Users/shashankdutt/miniconda3/envs/disaster-response/lib/python3.9/site-packages (from geopy->twint) (2.0)\n",
      "Requirement already satisfied: requests in /Users/shashankdutt/miniconda3/envs/disaster-response/lib/python3.9/site-packages (from googletransx->twint) (2.32.3)\n",
      "Requirement already satisfied: numpy>=1.22.4 in /Users/shashankdutt/miniconda3/envs/disaster-response/lib/python3.9/site-packages (from pandas->twint) (2.0.1)\n",
      "Requirement already satisfied: python-dateutil>=2.8.2 in /Users/shashankdutt/miniconda3/envs/disaster-response/lib/python3.9/site-packages (from pandas->twint) (2.9.0)\n",
      "Requirement already satisfied: pytz>=2020.1 in /Users/shashankdutt/miniconda3/envs/disaster-response/lib/python3.9/site-packages (from pandas->twint) (2024.1)\n",
      "Requirement already satisfied: tzdata>=2022.7 in /Users/shashankdutt/miniconda3/envs/disaster-response/lib/python3.9/site-packages (from pandas->twint) (2024.1)\n",
      "Requirement already satisfied: urllib3<3,>=1.26.2 in /Users/shashankdutt/miniconda3/envs/disaster-response/lib/python3.9/site-packages (from elastic-transport<9,>=8.13->elasticsearch->twint) (2.2.2)\n",
      "Requirement already satisfied: certifi in /Users/shashankdutt/miniconda3/envs/disaster-response/lib/python3.9/site-packages (from elastic-transport<9,>=8.13->elasticsearch->twint) (2024.7.4)\n",
      "Requirement already satisfied: zipp>=3.1.0 in /Users/shashankdutt/miniconda3/envs/disaster-response/lib/python3.9/site-packages (from importlib-resources>=5.0->fake-useragent->twint) (3.20.0)\n",
      "Requirement already satisfied: cffi>=1.5.0 in /Users/shashankdutt/miniconda3/envs/disaster-response/lib/python3.9/site-packages (from pycares>=4.0.0->aiodns->twint) (1.14.6)\n",
      "Requirement already satisfied: six>=1.5 in /Users/shashankdutt/miniconda3/envs/disaster-response/lib/python3.9/site-packages (from python-dateutil>=2.8.2->pandas->twint) (1.16.0)\n",
      "Requirement already satisfied: idna>=2.0 in /Users/shashankdutt/miniconda3/envs/disaster-response/lib/python3.9/site-packages (from yarl<2.0,>=1.0->aiohttp->twint) (3.8)\n",
      "Requirement already satisfied: charset-normalizer<4,>=2 in /Users/shashankdutt/miniconda3/envs/disaster-response/lib/python3.9/site-packages (from requests->googletransx->twint) (3.3.2)\n",
      "Requirement already satisfied: pycparser in /Users/shashankdutt/miniconda3/envs/disaster-response/lib/python3.9/site-packages (from cffi>=1.5.0->pycares>=4.0.0->aiodns->twint) (2.22)\n",
      "Note: you may need to restart the kernel to use updated packages.\n"
     ]
    }
   ],
   "source": [
    "pip install twint"
   ]
  },
  {
   "cell_type": "code",
   "execution_count": 4,
   "id": "bd7f4e66-d9c3-4115-9fa4-98abcfef1262",
   "metadata": {},
   "outputs": [
    {
     "name": "stderr",
     "output_type": "stream",
     "text": [
      "/Users/shashankdutt/miniconda3/envs/disaster-response/lib/python3.9/genericpath.py:77: RuntimeWarning: coroutine 'Twint.main' was never awaited\n",
      "  m = tuple(map(os.fspath, m))\n",
      "RuntimeWarning: Enable tracemalloc to get the object allocation traceback\n"
     ]
    },
    {
     "ename": "RuntimeError",
     "evalue": "This event loop is already running",
     "output_type": "error",
     "traceback": [
      "\u001b[0;31m---------------------------------------------------------------------------\u001b[0m",
      "\u001b[0;31mRuntimeError\u001b[0m                              Traceback (most recent call last)",
      "Cell \u001b[0;32mIn[4], line 4\u001b[0m\n\u001b[1;32m      2\u001b[0m t\u001b[38;5;241m=\u001b[39m twint\u001b[38;5;241m.\u001b[39mConfig()\n\u001b[1;32m      3\u001b[0m t\u001b[38;5;241m.\u001b[39mSearch\u001b[38;5;241m=\u001b[39m\u001b[38;5;124m\"\u001b[39m\u001b[38;5;124mflood\u001b[39m\u001b[38;5;124m\"\u001b[39m\n\u001b[0;32m----> 4\u001b[0m \u001b[43mtwint\u001b[49m\u001b[38;5;241;43m.\u001b[39;49m\u001b[43mrun\u001b[49m\u001b[38;5;241;43m.\u001b[39;49m\u001b[43mSearch\u001b[49m\u001b[43m(\u001b[49m\u001b[43mt\u001b[49m\u001b[43m)\u001b[49m\n",
      "File \u001b[0;32m~/miniconda3/envs/disaster-response/lib/python3.9/site-packages/twint/run.py:327\u001b[0m, in \u001b[0;36mSearch\u001b[0;34m(config, callback)\u001b[0m\n\u001b[1;32m    325\u001b[0m config\u001b[38;5;241m.\u001b[39mProfile \u001b[38;5;241m=\u001b[39m \u001b[38;5;28;01mFalse\u001b[39;00m\n\u001b[1;32m    326\u001b[0m config\u001b[38;5;241m.\u001b[39mProfile_full \u001b[38;5;241m=\u001b[39m \u001b[38;5;28;01mFalse\u001b[39;00m\n\u001b[0;32m--> 327\u001b[0m \u001b[43mrun\u001b[49m\u001b[43m(\u001b[49m\u001b[43mconfig\u001b[49m\u001b[43m,\u001b[49m\u001b[43m \u001b[49m\u001b[43mcallback\u001b[49m\u001b[43m)\u001b[49m\n\u001b[1;32m    328\u001b[0m \u001b[38;5;28;01mif\u001b[39;00m config\u001b[38;5;241m.\u001b[39mPandas_au:\n\u001b[1;32m    329\u001b[0m     storage\u001b[38;5;241m.\u001b[39mpanda\u001b[38;5;241m.\u001b[39m_autoget(\u001b[38;5;124m\"\u001b[39m\u001b[38;5;124mtweet\u001b[39m\u001b[38;5;124m\"\u001b[39m)\n",
      "File \u001b[0;32m~/miniconda3/envs/disaster-response/lib/python3.9/site-packages/twint/run.py:226\u001b[0m, in \u001b[0;36mrun\u001b[0;34m(config, callback)\u001b[0m\n\u001b[1;32m    223\u001b[0m     logme\u001b[38;5;241m.\u001b[39mexception(\u001b[38;5;18m__name__\u001b[39m\u001b[38;5;241m+\u001b[39m\u001b[38;5;124m'\u001b[39m\u001b[38;5;124m:Lookup:Unexpected exception occured while attempting to get or create a new event loop.\u001b[39m\u001b[38;5;124m'\u001b[39m)\n\u001b[1;32m    224\u001b[0m     \u001b[38;5;28;01mraise\u001b[39;00m\n\u001b[0;32m--> 226\u001b[0m \u001b[43mget_event_loop\u001b[49m\u001b[43m(\u001b[49m\u001b[43m)\u001b[49m\u001b[38;5;241;43m.\u001b[39;49m\u001b[43mrun_until_complete\u001b[49m\u001b[43m(\u001b[49m\u001b[43mTwint\u001b[49m\u001b[43m(\u001b[49m\u001b[43mconfig\u001b[49m\u001b[43m)\u001b[49m\u001b[38;5;241;43m.\u001b[39;49m\u001b[43mmain\u001b[49m\u001b[43m(\u001b[49m\u001b[43mcallback\u001b[49m\u001b[43m)\u001b[49m\u001b[43m)\u001b[49m\n",
      "File \u001b[0;32m~/miniconda3/envs/disaster-response/lib/python3.9/asyncio/base_events.py:623\u001b[0m, in \u001b[0;36mBaseEventLoop.run_until_complete\u001b[0;34m(self, future)\u001b[0m\n\u001b[1;32m    612\u001b[0m \u001b[38;5;250m\u001b[39m\u001b[38;5;124;03m\"\"\"Run until the Future is done.\u001b[39;00m\n\u001b[1;32m    613\u001b[0m \n\u001b[1;32m    614\u001b[0m \u001b[38;5;124;03mIf the argument is a coroutine, it is wrapped in a Task.\u001b[39;00m\n\u001b[0;32m   (...)\u001b[0m\n\u001b[1;32m    620\u001b[0m \u001b[38;5;124;03mReturn the Future's result, or raise its exception.\u001b[39;00m\n\u001b[1;32m    621\u001b[0m \u001b[38;5;124;03m\"\"\"\u001b[39;00m\n\u001b[1;32m    622\u001b[0m \u001b[38;5;28mself\u001b[39m\u001b[38;5;241m.\u001b[39m_check_closed()\n\u001b[0;32m--> 623\u001b[0m \u001b[38;5;28;43mself\u001b[39;49m\u001b[38;5;241;43m.\u001b[39;49m\u001b[43m_check_running\u001b[49m\u001b[43m(\u001b[49m\u001b[43m)\u001b[49m\n\u001b[1;32m    625\u001b[0m new_task \u001b[38;5;241m=\u001b[39m \u001b[38;5;129;01mnot\u001b[39;00m futures\u001b[38;5;241m.\u001b[39misfuture(future)\n\u001b[1;32m    626\u001b[0m future \u001b[38;5;241m=\u001b[39m tasks\u001b[38;5;241m.\u001b[39mensure_future(future, loop\u001b[38;5;241m=\u001b[39m\u001b[38;5;28mself\u001b[39m)\n",
      "File \u001b[0;32m~/miniconda3/envs/disaster-response/lib/python3.9/asyncio/base_events.py:583\u001b[0m, in \u001b[0;36mBaseEventLoop._check_running\u001b[0;34m(self)\u001b[0m\n\u001b[1;32m    581\u001b[0m \u001b[38;5;28;01mdef\u001b[39;00m \u001b[38;5;21m_check_running\u001b[39m(\u001b[38;5;28mself\u001b[39m):\n\u001b[1;32m    582\u001b[0m     \u001b[38;5;28;01mif\u001b[39;00m \u001b[38;5;28mself\u001b[39m\u001b[38;5;241m.\u001b[39mis_running():\n\u001b[0;32m--> 583\u001b[0m         \u001b[38;5;28;01mraise\u001b[39;00m \u001b[38;5;167;01mRuntimeError\u001b[39;00m(\u001b[38;5;124m'\u001b[39m\u001b[38;5;124mThis event loop is already running\u001b[39m\u001b[38;5;124m'\u001b[39m)\n\u001b[1;32m    584\u001b[0m     \u001b[38;5;28;01mif\u001b[39;00m events\u001b[38;5;241m.\u001b[39m_get_running_loop() \u001b[38;5;129;01mis\u001b[39;00m \u001b[38;5;129;01mnot\u001b[39;00m \u001b[38;5;28;01mNone\u001b[39;00m:\n\u001b[1;32m    585\u001b[0m         \u001b[38;5;28;01mraise\u001b[39;00m \u001b[38;5;167;01mRuntimeError\u001b[39;00m(\n\u001b[1;32m    586\u001b[0m             \u001b[38;5;124m'\u001b[39m\u001b[38;5;124mCannot run the event loop while another loop is running\u001b[39m\u001b[38;5;124m'\u001b[39m)\n",
      "\u001b[0;31mRuntimeError\u001b[0m: This event loop is already running"
     ]
    }
   ],
   "source": [
    "import twint\n",
    "t= twint.Config()\n",
    "t.Search=\"flood\"\n",
    "twint.run.Search(t)\n"
   ]
  },
  {
   "cell_type": "code",
   "execution_count": null,
   "id": "a79e23f5-2a21-46f9-92c9-c7b6f5e66bb2",
   "metadata": {},
   "outputs": [],
   "source": []
  },
  {
   "cell_type": "code",
   "execution_count": null,
   "id": "5272a84a-65fc-46ca-9db9-8dbd6b1f50b0",
   "metadata": {},
   "outputs": [],
   "source": []
  }
 ],
 "metadata": {
  "kernelspec": {
   "display_name": "Python 3 (ipykernel)",
   "language": "python",
   "name": "python3"
  },
  "language_info": {
   "codemirror_mode": {
    "name": "ipython",
    "version": 3
   },
   "file_extension": ".py",
   "mimetype": "text/x-python",
   "name": "python",
   "nbconvert_exporter": "python",
   "pygments_lexer": "ipython3",
   "version": "3.9.19"
  }
 },
 "nbformat": 4,
 "nbformat_minor": 5
}
